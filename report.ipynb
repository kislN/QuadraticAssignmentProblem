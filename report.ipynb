{
 "cells": [
  {
   "cell_type": "code",
   "execution_count": 1,
   "metadata": {
    "collapsed": true,
    "pycharm": {
     "is_executing": false
    }
   },
   "outputs": [],
   "source": [
    "import pandas as pd \n",
    "import numpy as np\n",
    "import timeit\n",
    "\n",
    "from algorithms.local_search import LocalSearch\n",
    "from algorithms.iterated import Iterated\n",
    "from algorithms.guided import Guided\n",
    "from tools.load_data import get_all\n",
    "from tools.measures import get_time"
   ]
  },
  {
   "cell_type": "markdown",
   "source": [
    "# Laboratory work 3\n",
    "## Quadratic Assignment Problem\n",
    "Done by *Kuklin, Kislitsyna, Aroslankin*.     \n",
    "There are tests and comparisons of the 3 heuristical gorithms for QAP.    \n",
    "* []()  \n",
    "* [Greedy]() \n",
    "* [Genetic algorithm]()"
   ],
   "metadata": {
    "collapsed": false,
    "pycharm": {
     "name": "#%% md\n"
    }
   }
  },
  {
   "cell_type": "code",
   "execution_count": 2,
   "outputs": [
    {
     "name": "stdout",
     "text": [
      "tai100a  is loaded!\ntai20a  is loaded!\ntai40a  is loaded!\ntai60a  is loaded!\ntai80a  is loaded!\n"
     ],
     "output_type": "stream"
    }
   ],
   "source": [
    "cases = get_all()"
   ],
   "metadata": {
    "collapsed": false,
    "pycharm": {
     "name": "#%%\n",
     "is_executing": false
    }
   }
  },
  {
   "cell_type": "markdown",
   "source": [
    "### Local Search"
   ],
   "metadata": {
    "collapsed": false
   }
  },
  {
   "cell_type": "markdown",
   "source": [
    "#### First Improvement"
   ],
   "metadata": {
    "collapsed": false,
    "pycharm": {
     "name": "#%% md\n"
    }
   }
  },
  {
   "cell_type": "code",
   "execution_count": 3,
   "outputs": [],
   "source": [
    "df = get_time(cases[0:1], iterations=1, lim_sec=10) "
   ],
   "metadata": {
    "collapsed": false,
    "pycharm": {
     "name": "#%%\n",
     "is_executing": false
    }
   }
  },
  {
   "cell_type": "code",
   "execution_count": 4,
   "outputs": [
    {
     "data": {
      "text/plain": "                          Method Number of items      Mean    Median  \\\n0   LocalSearch/stochastic_2_opt              20  0.062076  0.062076   \n1  LocalSearch/first_improvement              20  0.107842  0.107842   \n2   LocalSearch/best_improvement              20  0.157434  0.157434   \n3      Iterated/stochastic_2_opt              20  4.199234  4.199234   \n4     Iterated/first_improvement              20  7.409589  7.409589   \n5      Iterated/best_improvement              20  7.291178  7.291178   \n6        Guided/stochastic_2_opt              20  4.242821  4.242821   \n7       Guided/first_improvement              20  1.544699  1.544699   \n8        Guided/best_improvement              20  1.525545  1.525545   \n\n        Min       Max  Variance  \n0  0.062076  0.062076       0.0  \n1  0.107842  0.107842       0.0  \n2  0.157434  0.157434       0.0  \n3  4.199234  4.199234       0.0  \n4  7.409589  7.409589       0.0  \n5  7.291178  7.291178       0.0  \n6  4.242821  4.242821       0.0  \n7  1.544699  1.544699       0.0  \n8  1.525545  1.525545       0.0  ",
      "text/html": "<div>\n<style scoped>\n    .dataframe tbody tr th:only-of-type {\n        vertical-align: middle;\n    }\n\n    .dataframe tbody tr th {\n        vertical-align: top;\n    }\n\n    .dataframe thead th {\n        text-align: right;\n    }\n</style>\n<table border=\"1\" class=\"dataframe\">\n  <thead>\n    <tr style=\"text-align: right;\">\n      <th></th>\n      <th>Method</th>\n      <th>Number of items</th>\n      <th>Mean</th>\n      <th>Median</th>\n      <th>Min</th>\n      <th>Max</th>\n      <th>Variance</th>\n    </tr>\n  </thead>\n  <tbody>\n    <tr>\n      <th>0</th>\n      <td>LocalSearch/stochastic_2_opt</td>\n      <td>20</td>\n      <td>0.062076</td>\n      <td>0.062076</td>\n      <td>0.062076</td>\n      <td>0.062076</td>\n      <td>0.0</td>\n    </tr>\n    <tr>\n      <th>1</th>\n      <td>LocalSearch/first_improvement</td>\n      <td>20</td>\n      <td>0.107842</td>\n      <td>0.107842</td>\n      <td>0.107842</td>\n      <td>0.107842</td>\n      <td>0.0</td>\n    </tr>\n    <tr>\n      <th>2</th>\n      <td>LocalSearch/best_improvement</td>\n      <td>20</td>\n      <td>0.157434</td>\n      <td>0.157434</td>\n      <td>0.157434</td>\n      <td>0.157434</td>\n      <td>0.0</td>\n    </tr>\n    <tr>\n      <th>3</th>\n      <td>Iterated/stochastic_2_opt</td>\n      <td>20</td>\n      <td>4.199234</td>\n      <td>4.199234</td>\n      <td>4.199234</td>\n      <td>4.199234</td>\n      <td>0.0</td>\n    </tr>\n    <tr>\n      <th>4</th>\n      <td>Iterated/first_improvement</td>\n      <td>20</td>\n      <td>7.409589</td>\n      <td>7.409589</td>\n      <td>7.409589</td>\n      <td>7.409589</td>\n      <td>0.0</td>\n    </tr>\n    <tr>\n      <th>5</th>\n      <td>Iterated/best_improvement</td>\n      <td>20</td>\n      <td>7.291178</td>\n      <td>7.291178</td>\n      <td>7.291178</td>\n      <td>7.291178</td>\n      <td>0.0</td>\n    </tr>\n    <tr>\n      <th>6</th>\n      <td>Guided/stochastic_2_opt</td>\n      <td>20</td>\n      <td>4.242821</td>\n      <td>4.242821</td>\n      <td>4.242821</td>\n      <td>4.242821</td>\n      <td>0.0</td>\n    </tr>\n    <tr>\n      <th>7</th>\n      <td>Guided/first_improvement</td>\n      <td>20</td>\n      <td>1.544699</td>\n      <td>1.544699</td>\n      <td>1.544699</td>\n      <td>1.544699</td>\n      <td>0.0</td>\n    </tr>\n    <tr>\n      <th>8</th>\n      <td>Guided/best_improvement</td>\n      <td>20</td>\n      <td>1.525545</td>\n      <td>1.525545</td>\n      <td>1.525545</td>\n      <td>1.525545</td>\n      <td>0.0</td>\n    </tr>\n  </tbody>\n</table>\n</div>"
     },
     "metadata": {},
     "output_type": "execute_result",
     "execution_count": 4
    }
   ],
   "source": [
    "df "
   ],
   "metadata": {
    "collapsed": false,
    "pycharm": {
     "name": "#%% \n",
     "is_executing": false
    }
   }
  },
  {
   "cell_type": "code",
   "execution_count": null,
   "outputs": [],
   "source": [
    "for case in cases:\n",
    "    algo = LocalSearch(*case.values())\n",
    "    print('n = ', case['n'], ' result:')\n",
    "    \n",
    "    print('first-impr')\n",
    "    start = timeit.default_timer()\n",
    "    result = algo.run('first_improvement', dlb=True)\n",
    "    end = timeit.default_timer()\n",
    "    print(result)\n",
    "    print(f\"Cost: {algo.cost_fun}\")\n",
    "    print('Time spent: {:.4f} seconds\\n'.format(end-start))\n",
    "    \n",
    "    # print('best-impr')\n",
    "    # start = timeit.default_timer()\n",
    "    # result = algo.run('best_improvement', dlb=True)\n",
    "    # end = timeit.default_timer()\n",
    "    # print(result)\n",
    "    # print(f\"Cost: {algo.cost_fun}\")\n",
    "    # print('Time spent: {:.4f} seconds\\n'.format(end-start))\n",
    "    \n",
    "    # print('stoch-impr')\n",
    "    # start = timeit.default_timer()\n",
    "    # result = algo.run('stochastic_2_opt', iters=10000)\n",
    "    # end = timeit.default_timer()\n",
    "    # print(result)\n",
    "    # print(f\"Cost: {algo.cost_fun}\")\n",
    "    # print('Time spent: {:.4f} seconds\\n'.format(end-start))\n"
   ],
   "metadata": {
    "collapsed": false,
    "pycharm": {
     "name": "#%%\n",
     "is_executing": false
    }
   }
  },
  {
   "cell_type": "code",
   "execution_count": null,
   "outputs": [],
   "source": [
    "l = np.flip(np.arange(5,8))\n",
    "l"
   ],
   "metadata": {
    "collapsed": false,
    "pycharm": {
     "name": "#%%\n",
     "is_executing": false
    }
   }
  },
  {
   "cell_type": "code",
   "execution_count": 13,
   "outputs": [
    {
     "name": "stdout",
     "text": [
      "5\n"
     ],
     "output_type": "stream"
    }
   ],
   "source": [
    "def fun(**args):\n",
    "    args['n'] = 5\n",
    "    print(args['n'])\n",
    "    \n",
    "    \n",
    "fun(s=4)\n"
   ],
   "metadata": {
    "collapsed": false,
    "pycharm": {
     "name": "#%%\n",
     "is_executing": false
    }
   }
  },
  {
   "cell_type": "code",
   "execution_count": null,
   "outputs": [],
   "source": [
    "\n"
   ],
   "metadata": {
    "collapsed": false,
    "pycharm": {
     "name": "#%%\n"
    }
   }
  }
 ],
 "metadata": {
  "kernelspec": {
   "display_name": "Python 3",
   "language": "python",
   "name": "python3"
  },
  "language_info": {
   "codemirror_mode": {
    "name": "ipython",
    "version": 2
   },
   "file_extension": ".py",
   "mimetype": "text/x-python",
   "name": "python",
   "nbconvert_exporter": "python",
   "pygments_lexer": "ipython2",
   "version": "2.7.6"
  },
  "pycharm": {
   "stem_cell": {
    "cell_type": "raw",
    "source": [],
    "metadata": {
     "collapsed": false
    }
   }
  }
 },
 "nbformat": 4,
 "nbformat_minor": 0
}